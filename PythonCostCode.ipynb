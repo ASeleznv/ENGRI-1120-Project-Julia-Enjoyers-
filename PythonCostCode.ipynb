{
 "cells": [
  {
   "cell_type": "code",
   "execution_count": 46,
   "metadata": {},
   "outputs": [
    {
     "name": "stdout",
     "output_type": "stream",
     "text": [
      "3670.0\n"
     ]
    }
   ],
   "source": [
    "import math\n",
    "\n",
    "reactor = 8\n",
    "separator = 4\n",
    "pump = 1\n",
    "maltose = 0.92475\n",
    "kno3 = 4.932\n",
    "time = 24*30*7\n",
    "x = (maltose*time*342.3)/(1000*100)\n",
    "n = math.ceil(x)\n",
    "y = (kno3*time*101.10)/(1000*25000)\n",
    "b = math.ceil(y)\n",
    "total = (reactor*100)+(separator*20)+(pump*1000)+(n*12.50)+(b*1590)\n",
    "print(total)"
   ]
  }
 ],
 "metadata": {
  "interpreter": {
   "hash": "209ddd9b403c57e5c24e49c65219a9ce9fe745efdf85559468127741a95325c2"
  },
  "kernelspec": {
   "display_name": "Python 3.10.0 64-bit",
   "language": "python",
   "name": "python3"
  },
  "language_info": {
   "codemirror_mode": {
    "name": "ipython",
    "version": 3
   },
   "file_extension": ".py",
   "mimetype": "text/x-python",
   "name": "python",
   "nbconvert_exporter": "python",
   "pygments_lexer": "ipython3",
   "version": "3.10.0"
  },
  "orig_nbformat": 4
 },
 "nbformat": 4,
 "nbformat_minor": 2
}
